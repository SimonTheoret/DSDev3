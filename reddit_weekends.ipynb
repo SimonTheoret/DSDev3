{
 "cells": [
  {
   "cell_type": "markdown",
   "id": "7bfb7c5a-e145-49ed-adb7-be1802339d86",
   "metadata": {},
   "source": [
    "# IFT 6758 - Devoir 3 \n",
    "\n",
    "### Pt 1. Reddit Weekends\n",
    "\n",
    "Évaluation pour ce notebook:\n",
    "\n",
    "- Histogrammes pour les counts de base, les counts transformés, et les counts du théorème limite central\n",
    "- Réponses courtes (dernière section)"
   ]
  },
  {
   "cell_type": "code",
   "execution_count": null,
   "id": "29c86155-6836-47f7-9b7b-e3b17ef2e233",
   "metadata": {},
   "outputs": [],
   "source": [
    "%load_ext autoreload\n",
    "%autoreload 2"
   ]
  },
  {
   "cell_type": "code",
   "execution_count": null,
   "id": "06160bcc-d246-4765-a862-18e6ce364ad1",
   "metadata": {},
   "outputs": [],
   "source": [
    "from pathlib import Path\n",
    "import pandas as pd\n",
    "import numpy as np\n",
    "import matplotlib.pyplot as plt\n",
    "import seaborn as sns\n",
    "sns.set()"
   ]
  },
  {
   "cell_type": "code",
   "execution_count": null,
   "id": "86c93f11-688f-4336-a8d2-3f4155247764",
   "metadata": {},
   "outputs": [],
   "source": [
    "from datetime import date\n",
    "import scipy.stats as sp"
   ]
  },
  {
   "cell_type": "code",
   "execution_count": null,
   "id": "1c5c07eb-9b17-41f6-9d11-1e34d2730481",
   "metadata": {},
   "outputs": [],
   "source": [
    "import reddit_weekends"
   ]
  },
  {
   "cell_type": "markdown",
   "id": "6aeda9a9-d48c-44bb-9352-fd813652b603",
   "metadata": {
    "tags": []
   },
   "source": [
    "## 1. Charger les données"
   ]
  },
  {
   "cell_type": "markdown",
   "id": "c577daef-6bb6-4fe7-940f-f8f5801b6248",
   "metadata": {},
   "source": [
    "Lire les données JSON et filtrer/nettoyer le dataframe"
   ]
  },
  {
   "cell_type": "code",
   "execution_count": null,
   "id": "4d9b8645-3ef3-42cb-a959-6d634d029d5b",
   "metadata": {},
   "outputs": [],
   "source": [
    "raw_df = reddit_weekends.read_data(\"data/reddit-counts.json.gz\")"
   ]
  },
  {
   "cell_type": "code",
   "execution_count": null,
   "id": "c0d33927-35bb-4ca2-9def-6512b8e91034",
   "metadata": {},
   "outputs": [],
   "source": [
    "raw_df.head()"
   ]
  },
  {
   "cell_type": "code",
   "execution_count": null,
   "id": "8a3274aa-fe8a-4427-8cdc-cc937f5d9659",
   "metadata": {},
   "outputs": [],
   "source": [
    "# TODO: Complétez ces implémentations dans reddit_weekends.py\n",
    "df = reddit_weekends.process_data(raw_df)\n",
    "wd, we = reddit_weekends.split_data(df)"
   ]
  },
  {
   "cell_type": "markdown",
   "id": "2a38c5d9-9572-47c2-bb14-514e1877262d",
   "metadata": {},
   "source": [
    "### T-Test"
   ]
  },
  {
   "cell_type": "code",
   "execution_count": null,
   "id": "8a99947b-e898-4765-b4b0-7dcc983bab11",
   "metadata": {},
   "outputs": [],
   "source": [
    "# TODO: Complétez ces implémentations dans reddit_weekends.py\n",
    "p_ttest, p_wdNormal, p_weNormal, p_vartest = reddit_weekends.tests(wd, we, verbose=True)"
   ]
  },
  {
   "cell_type": "markdown",
   "id": "3a22d66e-a0b1-4863-84ee-ebbdf556acd4",
   "metadata": {},
   "source": [
    "### Solution 1: transformer les données pourrait nous aider\n",
    "\n",
    "Jetez un oeil à l'histogramme des données. Vous remarquerez qu'il est biaisé: c'est la raison pour laquelle il n'a pas été distribué normalement dans la dernière partie. Essayez de transformer les décomptes afin que les données n'échouent pas au test de normalité. Considérez les transformations suivantes :\n",
    "\n",
    "     np.log, np.exp, np.sqrt, counts**2\n",
    "    \n",
    "Pour chaque transformation, tracez le nouvel histogramme (`reddit_weekends.draw_histogram()`) et exécutez la méthode `reddit_weekends.tests()` pour voir si vous pouvez maintenant utiliser le test T.\n",
    "    \n",
    "Remarque: aucune d'entre elles ne fera passer le test de normalité aux deux distributions. Le mieux que vous pouvez obtenir est une variable avec des problèmes de normalité, une bonne; pas de problèmes de variance égale."
   ]
  },
  {
   "cell_type": "code",
   "execution_count": null,
   "id": "8cd654f2-78bf-4d11-8462-39ed349cbdb2",
   "metadata": {},
   "outputs": [],
   "source": [
    "fig = reddit_weekends.draw_histogram(df, title=\"No transform\")"
   ]
  },
  {
   "cell_type": "code",
   "execution_count": null,
   "id": "e87e99c1-a54f-4d8a-9473-84f9735bd5d8",
   "metadata": {},
   "outputs": [],
   "source": [
    "tmp_df = df.copy()\n",
    "\n",
    "# TODO: Appliquez les transformations aux données copiées (ne modifiez pas le dataframe original!)\n",
    "\n",
    "# TODO: Tracez l'histogramme\n",
    "reddit_weekends.draw_histogram(tmp_df, title=\"[TRANSFORMATION TITLE]\")\n",
    "\n",
    "# TODO: Exécutez les tests à nouveau\n",
    "_wd, _we = reddit_weekends.split_data(tmp_df)\n",
    "_ = reddit_weekends.tests(_wd, _we, verbose=True)"
   ]
  },
  {
   "cell_type": "code",
   "execution_count": null,
   "id": "d0c6b5db-9341-4217-91c9-5a9878e51ab5",
   "metadata": {},
   "outputs": [],
   "source": [
    "# TODO: RÉPÉTEZ POUR LES AUTRES TRANSFORMATIONS"
   ]
  },
  {
   "cell_type": "markdown",
   "id": "6fe07fde-7835-47d8-81eb-c5fc112af211",
   "metadata": {},
   "source": [
    "# Correction 2: le théorème central limite pourrait nous sauver.\n",
    "\n",
    "Le théorème central limite dit que si nos nombres sont suffisamment grands et que nous examinons les moyennes de l'échantillon, alors le résultat devrait être normal.\n",
    "Essayons cela: nous combinerons tous les jours de semaine et de week-end de chaque paire année/semaine et prendrons la moyenne de leurs décomptes (non transformés).\n",
    "\n",
    "Astuces: vous pouvez obtenir une \"année\" et un \"numéro de semaine\" à partir des deux premières valeurs renvoyées par date.isocalendar(). Cette année et ce numéro de semaine vous donneront un identifiant pour la semaine. Utilisez Pandas pour regrouper par cette valeur et agréger en prenant la moyenne. \n",
    "\n",
    "Remarque: l'année renvoyée par isocalendar n'est pas toujours la même que l'année de la date (autour de la nouvelle année). Utilisez l'année de l'isocalendar qui est correcte dans ce cas.\n",
    "\n",
    "Vérifiez ces valeurs pour la normalité et la variance égale. Appliquez un test T si cela a du sens. (Indice : youpi !)\n",
    "\n",
    "Nous devrions noter que nous modifions subtilement la question ici. La nouvelle questions ressemble plutôt à \"le nombre de commentaires le week-end diffère-t-il du nombre de commentaires les jours de semaine pour chaque semaine?\""
   ]
  },
  {
   "cell_type": "code",
   "execution_count": null,
   "id": "0d673be2-402b-4b9d-b5ec-c5b1630c0471",
   "metadata": {},
   "outputs": [],
   "source": [
    "# TODO: Complétez ces implémentations dans reddit_weekends.py\n",
    "clt = reddit_weekends.central_limit_theorem(df)\n",
    "clt.head()"
   ]
  },
  {
   "cell_type": "code",
   "execution_count": null,
   "id": "caed103a-328a-4008-a345-7757d3d63c1f",
   "metadata": {},
   "outputs": [],
   "source": [
    "reddit_weekends.draw_histogram(clt, \"Central Limit Theorem\")\n",
    "\n",
    "_wd, _we = reddit_weekends.split_data(clt)\n",
    "_ = reddit_weekends.tests(_wd, _we, verbose=True)"
   ]
  },
  {
   "cell_type": "markdown",
   "id": "684b5c0f-9ac0-4e8a-a444-af7a955b691d",
   "metadata": {},
   "source": [
    "## Correction 3: un test non paramétrique pourrait nous sauver.\n",
    "\n",
    "L'autre option que nous avons dans notre boîte à outils : un test statistique qui ne se soucie pas autant de la forme de son entrée. Le test U de Mann – Whitney ne suppose pas de valeurs distribuées normalement ni de variance égale.\n",
    "\n",
    "Effectuez un test U sur les décomptes (initiaux non transformés, non agrégés). Notez que nous devrions faire ici un test bilatéral, qui correspondra aux autres analyses. Assurez-vous que les arguments de la fonction sont corrects.\n",
    "\n",
    "Encore une fois, notez que nous modifions subtilement la question à nouveau. Si nous parvenons à une conclusion à cause d'un test U, c'est quelque chose comme \"il n'est pas également probable qu'il y a un plus grand nombre de commentaires le week-end par rapport aux jours de semaine\"."
   ]
  },
  {
   "cell_type": "code",
   "execution_count": null,
   "id": "b0103b71-93ca-474b-a8a4-09bf4d9065c8",
   "metadata": {},
   "outputs": [],
   "source": [
    "# TODO: Complétez ces implémentations dans reddit_weekends.py\n",
    "p_utest = reddit_weekends.mann_whitney_u_test(wd, we)\n",
    "print(f\"Mann-Whitney U-test p-value: {p_utest}\")"
   ]
  },
  {
   "cell_type": "markdown",
   "id": "e9e41630-1c71-4d4a-977b-00fbbeefb26c",
   "metadata": {},
   "source": [
    "# Réponses courtes\n",
    "\n",
    "1. Laquelle des quatre transformations suggérées vous rapproche le plus de satisfaire les hypothèses d'un test T ?\n",
    "\n",
    "*Votre Réponse*\n",
    "\n",
    "\n",
    "2. J'ai donné des explications imprécises en mots de ce que le test hebdomadaire et le test de Mann-Whitney testaient réellement.\n",
    "    Faites de même pour le test T d'origine et pour le test T des données transformées.\n",
    "    Autrement dit, décrivez quelle serait la conclusion si vous pouviez rejeter l'hypothèse nulle dans ces tests.\n",
    "\n",
    "*Votre Réponse*\n",
    "\n",
    "\n",
    "3. Parmi les quatre approches, laquelle, selon vous, réussit le mieux à obtenir une réponse à la question initiale : \"y a-t-il un nombre différent de commentaires Reddit publiés en semaine et le week-end ?\"\n",
    "    Expliquez brièvement pourquoi. (Il n'est pas clair qu'il y ait une seule réponse correcte à cette question, mais il y en a de mauvaises !)\n",
    "\n",
    "*Votre Réponse*\n",
    "\n",
    "\n",
    "4. En moyenne, sur Reddit /r/canada, en moyenne: est-ce qu'il y a plus de commentaires publiés en semaine ou le week-end ?\n",
    "\n",
    "*Ta Réponse*"
   ]
  },
  {
   "cell_type": "code",
   "execution_count": null,
   "id": "5618cb9e-f1da-4702-aaa3-d3f52c4ced97",
   "metadata": {},
   "outputs": [],
   "source": []
  }
 ],
 "metadata": {
  "kernelspec": {
   "display_name": "base",
   "language": "python",
   "name": "base"
  },
  "language_info": {
   "codemirror_mode": {
    "name": "ipython",
    "version": 3
   },
   "file_extension": ".py",
   "mimetype": "text/x-python",
   "name": "python",
   "nbconvert_exporter": "python",
   "pygments_lexer": "ipython3",
   "version": "3.9.12"
  }
 },
 "nbformat": 4,
 "nbformat_minor": 5
}
