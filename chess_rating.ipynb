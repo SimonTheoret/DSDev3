{
 "cells": [
  {
   "cell_type": "markdown",
   "id": "7bfb7c5a-e145-49ed-adb7-be1802339d86",
   "metadata": {
    "tags": []
   },
   "source": [
    "# IFT 6758 - Devoir 3 \n",
    "\n",
    "### Pt 2. Classement d'éches\n",
    "**Comparaison des groupes sur/sous-représentés**\n",
    "\n",
    "Evaluation de ce notebook :\n",
    "\n",
    "- Graphiques pour les distributions de scores et d'écarts\n",
    "- Résultats imprimés des tests de permutation\n",
    "- Réponses courtes (dernière section)\n"
   ]
  },
  {
   "cell_type": "code",
   "execution_count": null,
   "id": "29c86155-6836-47f7-9b7b-e3b17ef2e233",
   "metadata": {},
   "outputs": [],
   "source": [
    "%load_ext autoreload\n",
    "%autoreload 2"
   ]
  },
  {
   "cell_type": "code",
   "execution_count": null,
   "id": "06160bcc-d246-4765-a862-18e6ce364ad1",
   "metadata": {},
   "outputs": [],
   "source": [
    "from pathlib import Path\n",
    "import pandas as pd\n",
    "import numpy as np\n",
    "import matplotlib.pyplot as plt\n",
    "import seaborn as sns\n",
    "sns.set()"
   ]
  },
  {
   "cell_type": "code",
   "execution_count": null,
   "id": "1c5c07eb-9b17-41f6-9d11-1e34d2730481",
   "metadata": {},
   "outputs": [],
   "source": [
    "import chess_rating"
   ]
  },
  {
   "cell_type": "markdown",
   "id": "6aeda9a9-d48c-44bb-9352-fd813652b603",
   "metadata": {
    "tags": []
   },
   "source": [
    "## 1. Chargez les données"
   ]
  },
  {
   "cell_type": "markdown",
   "id": "c577daef-6bb6-4fe7-940f-f8f5801b6248",
   "metadata": {},
   "source": [
    "### 1.1 Lire les données XML"
   ]
  },
  {
   "cell_type": "code",
   "execution_count": null,
   "id": "23f719d7-036d-4fbb-9fe0-a345b3ffacdd",
   "metadata": {},
   "outputs": [],
   "source": [
    "xml_path = Path(\"data/standard_oct22frl_xml.xml\")  # shouldn't need to change this"
   ]
  },
  {
   "cell_type": "code",
   "execution_count": null,
   "id": "520c7577-69ce-4a1f-b3d2-95a4d5e4c8a5",
   "metadata": {},
   "outputs": [],
   "source": [
    "# TODO: Complétez cette méthode dans chess_ratings.py\n",
    "raw_df = chess_rating.parse_xml(xml_path)"
   ]
  },
  {
   "cell_type": "code",
   "execution_count": null,
   "id": "06a0c309-c7d3-4c96-bedf-777301f7f62d",
   "metadata": {},
   "outputs": [],
   "source": [
    "# Vérifiez pour voir un échantillon de 5 joueurs\n",
    "random.seed(0)\n",
    "raw_df.sample(5)"
   ]
  },
  {
   "cell_type": "code",
   "execution_count": null,
   "id": "ef34ba55-5682-4b27-8c24-f3d04507456c",
   "metadata": {},
   "outputs": [],
   "source": [
    "# Vérifiez pour voir les dtypes du dataframe brut\n",
    "raw_df.dtypes"
   ]
  },
  {
   "cell_type": "code",
   "execution_count": null,
   "id": "07e1099c-035d-4a50-8964-7779d5b648ec",
   "metadata": {},
   "outputs": [],
   "source": [
    "# Voir il y a combien de dates de naissance manquantes\n",
    "raw_df.birthday.isnull().sum()"
   ]
  },
  {
   "cell_type": "markdown",
   "id": "61b67982-37d5-4e9c-a2d9-807d31be50ed",
   "metadata": {},
   "source": [
    "### 1.2 Nettoyez les données\n",
    "\n",
    "Nous voulons que les anniversaires (année de naissance) et le score (Elo) soient convertis en nombres entiers afin que nous puissions faire des opérations numériques/logiques avec eux (par exemple, moins que, plus grand que, etc.). Complétez la méthode `clean_data()` dans `chess_rating.py`"
   ]
  },
  {
   "cell_type": "code",
   "execution_count": null,
   "id": "747820df-2d1f-44b5-92aa-9e952730d361",
   "metadata": {},
   "outputs": [],
   "source": [
    "# TODO: Complétez cette méthode dans chess_ratings.py\n",
    "df = chess_rating.clean_data(raw_df, 2002)"
   ]
  },
  {
   "cell_type": "code",
   "execution_count": null,
   "id": "3f2fb988-7d1e-4521-a534-83c713c8627f",
   "metadata": {},
   "outputs": [],
   "source": [
    "np.random.seed(0)\n",
    "df.sample(5)"
   ]
  },
  {
   "cell_type": "code",
   "execution_count": null,
   "id": "6bd27b89-275f-48a4-b10e-20062b7767b9",
   "metadata": {},
   "outputs": [],
   "source": [
    "df.dtypes"
   ]
  },
  {
   "cell_type": "code",
   "execution_count": null,
   "id": "8bd092db-fc9f-45ce-bb63-1c0857c3d9ac",
   "metadata": {},
   "outputs": [],
   "source": [
    "df.birthday.isnull().sum()"
   ]
  },
  {
   "cell_type": "markdown",
   "id": "a4a77bef-61ac-4670-bccf-6f66c40f9333",
   "metadata": {},
   "source": [
    "## 2. Histogrammes des scores Elo\n",
    "\n",
    "Nous voulons d'abord comparer la distribution des scores pour les joueurs masculins et féminins.\n",
    "Étant donné que les données sont assez fines, nous devrons regrouper les notes.\n",
    "Complétez `bin_counts()`, qui devrait gérer le binning pour les données arbitraires et le choix des bacs.\n",
    "En plus de renvoyer les décomptes bruts, renvoyez également les décomptes normalisés dans la trame de données (`\"count_norm\"`)."
   ]
  },
  {
   "cell_type": "markdown",
   "id": "4aaff953-66cd-430b-bd67-a2a50def326d",
   "metadata": {},
   "source": [
    "### 2.1 Binning data\n",
    "\n",
    "Voici quelques entrées de test pour vous aider à valider votre implémentation :"
   ]
  },
  {
   "cell_type": "code",
   "execution_count": null,
   "id": "926c545c-4123-47b7-9031-f8478d9fcde5",
   "metadata": {},
   "outputs": [],
   "source": [
    "# sample inputs to help test your method\n",
    "x = pd.DataFrame({'rating': [1, 2, 4, 6, 6, 7, 8, 11] })\n",
    "bins = [0, 5, 10, 15]\n",
    "bin_centers = [2.5, 7.5, 12.5]\n",
    "\n",
    "# Output attendu\n",
    "solution = pd.DataFrame({\n",
    "    'rating': {0: 7.5, 1: 2.5, 2: 12.5},\n",
    "     'count': {0: 4, 1: 3, 2: 1},\n",
    "     'count_norm': {0: 0.5, 1: 0.375, 2: 0.125}\n",
    "})"
   ]
  },
  {
   "cell_type": "code",
   "execution_count": null,
   "id": "d9c34ecb-7a7e-460c-b6fd-0a8d5c8613a7",
   "metadata": {},
   "outputs": [],
   "source": [
    "binned_output = chess_rating.bin_counts(x, bins, bin_centers)\n",
    "binned_output"
   ]
  },
  {
   "cell_type": "code",
   "execution_count": null,
   "id": "acbd3f20-7dbf-42ca-bdd2-1f687200d49c",
   "metadata": {},
   "outputs": [],
   "source": [
    "solution.eq(binned_output)"
   ]
  },
  {
   "cell_type": "markdown",
   "id": "0111d9b4-f49f-4740-b097-87d8704034b3",
   "metadata": {},
   "source": [
    "Utilisons cette méthode pour bin les scores M/F et les comparer."
   ]
  },
  {
   "cell_type": "code",
   "execution_count": null,
   "id": "3e6fe70f-6651-4deb-ab6f-73b29d93aa90",
   "metadata": {},
   "outputs": [],
   "source": [
    "# TODO: Spécifiez les bin counts \n",
    "bins = None\n",
    "bin_centers = None"
   ]
  },
  {
   "cell_type": "code",
   "execution_count": null,
   "id": "be10f2b7-5789-48eb-9706-5313e1b41d86",
   "metadata": {},
   "outputs": [],
   "source": [
    "# Générez les données d'histogramme  \n",
    "# TODO: completez chess_rating.bin_counts()\n",
    "M_hist = chess_rating.bin_counts(df.query(\"sex=='M'\"), bins=bins, bin_centers=bin_centers)\n",
    "F_hist = chess_rating.bin_counts(df.query(\"sex=='F'\"), bins=bins, bin_centers=bin_centers)\n",
    "\n",
    "M_hist['sex'] = 'M'\n",
    "F_hist['sex'] = 'F'\n",
    "\n",
    "hist = pd.concat([M_hist, F_hist])"
   ]
  },
  {
   "cell_type": "markdown",
   "id": "51628add-30b4-4f3d-b18c-5634edc9a5fd",
   "metadata": {},
   "source": [
    "À l'aide des données regroupées, tracez deux graphiques linéaires des données regroupées côte à côte; l'un contenant les décomptes bruts (`\"count\"`), et l'autre contenant les décomptes normalisés (`\"count_norm\"`), et M/F doit être de deux couleurs différentes."
   ]
  },
  {
   "cell_type": "code",
   "execution_count": null,
   "id": "c16c6fc6-8642-4fb2-8808-4d32ce41180c",
   "metadata": {},
   "outputs": [],
   "source": [
    "# Now draw the two histograms side-by-side. \n",
    "fig, ax = plt.subplots(1,2, figsize=(12, 4), dpi=120)\n",
    "sns.lineplot(data=hist, x=\"rating\", y=\"count\", hue='sex', ax=ax[0])\n",
    "sns.lineplot(data=hist, x=\"rating\", y=\"count_norm\", hue='sex', ax=ax[1])"
   ]
  },
  {
   "cell_type": "markdown",
   "id": "c80ca2ec-6fbd-4974-b600-77ee90782a54",
   "metadata": {},
   "source": [
    "## 3. Tests de Permutation\n",
    "\n",
    "Nous allons maintenant effectuer les tests de permutation comme indiqué dans l'expérience de pensée de l'introduction.\n",
    "Prenez l'ensemble de données nettoyé complet (hommes et femmes) et échantillonnez au hasard deux groupes sans remplacement (c'est-à-dire mélangez les joueurs).\n",
    "La taille des groupes doit refléter la différence du monde réel que nous souhaitons étudier, c'est-à-dire la taille du groupe masculin et féminin.\n",
    "Terminez `chess_rating.PermutationTests.job()`, qui implémente la partie échantillonnage de cette expérience, et renvoie la valeur maximale des groupes surreprésentés et sous-représentés respectivement.\n",
    "\n",
    "Ensuite, complétez la méthode `chess_rating.sample_two_groups()`, qui exécute cette expérience `n_iter` fois.\n",
    "Une fois terminé, exécutez cette expérience dans le bloc-notes avec au moins `n_iter=1000`.\n",
    "Exécutez la cellule qui imprime la différence moyenne obtenue à partir des tests de permutation, ainsi que les différences réelles."
   ]
  },
  {
   "cell_type": "code",
   "execution_count": null,
   "id": "a32b42c8-5773-4da4-8cae-74eb9c02ffba",
   "metadata": {},
   "outputs": [],
   "source": [
    "n_overrep = None  # TODO\n",
    "n_underrep = None  # TODO\n",
    "\n",
    "over, under = chess_rating.sample_two_groups(df, n_overrep, n_underrep, n_iter=1000)"
   ]
  },
  {
   "cell_type": "code",
   "execution_count": null,
   "id": "75acbc10-cc05-462c-b014-80218c6d114f",
   "metadata": {},
   "outputs": [],
   "source": [
    "diffs = over - under\n",
    "max_M, max_F = df.query(\"sex=='M'\").rating.max(), df.query(\"sex=='F'\").rating.max()"
   ]
  },
  {
   "cell_type": "code",
   "execution_count": null,
   "id": "6d4c8dfd-7a53-4d37-877c-4eaa5539d40d",
   "metadata": {},
   "outputs": [],
   "source": [
    "print(f\"Mean difference between top individuals in the over/under represented groups taken from the permutation experiments:\")\n",
    "print(f\"\\n\\t{diffs.mean()} (std={diffs.std().round(2)})\")\n",
    "print()\n",
    "print(\"Real values:\\n\")\n",
    "print(f\"\\tMax M:\\t\\t{max_M}\")\n",
    "print(f\"\\tMax F:\\t\\t{max_F}\")\n",
    "print(f\"\\tReal difference: {max_M - max_F}\")"
   ]
  },
  {
   "cell_type": "code",
   "execution_count": null,
   "id": "9c6c4525-b312-4674-901d-ae6f2a17a10e",
   "metadata": {},
   "outputs": [],
   "source": [
    "fig, ax = plt.subplots(1, 1, dpi=100)\n",
    "sns.histplot(diffs, ax=ax).set(title=\"Histogram of differences\", xlabel=\"max(overrep) - max(underrep)\");"
   ]
  },
  {
   "cell_type": "markdown",
   "id": "a901194d-3d33-4a97-af01-b2327c7f310f",
   "metadata": {},
   "source": [
    "# Questions \n",
    "\n",
    "Donnez des réponses courtes aux questions suivantes (1-3 lignes chaques)."
   ]
  },
  {
   "cell_type": "markdown",
   "id": "b431f598-19f1-4955-82f8-331397fdfbd8",
   "metadata": {},
   "source": [
    "1. Interprétez les résultats - pouvez-vous tirer une conclusion ? Rappelez-vous que l'affirmation discutée dans l'introduction de cette question était \"les hommes sont meilleurs que les femmes aux échecs parce que la plupart des meilleurs joueurs sont des hommes\". (Remarque : probablement une partie de votre réponse ici sera liée à votre réponse à la question suivante.)\n",
    "\n",
    "*Votre réponse*\n",
    "\n",
    "\n",
    "2. Pensez-vous que les chiffres obtenus ici racontent toute l'histoire ? Quels pourraient être les problèmes avec l'analyse menée ici ? Les données avec lesquelles nous travaillons sont-elles biaisées d'une quelconque manière (autre qu'un biais de surreprésentation) ? L'ELO est-il une bonne mesure et peut-il être utilisé pour répondre à la question initiale ? Existe-t-il des différences dans le traitement social, culturel et systémique des hommes et des femmes qui peuvent empêcher le groupe sous-représenté d'obtenir des résultats similaires ? Rien d'autre?\n",
    "\n",
    "*Votre réponse*\n"
   ]
  },
  {
   "cell_type": "markdown",
   "id": "b186e008",
   "metadata": {},
   "source": [
    "Le but de ces questions est de souligner que les données sont une représentation limitée du monde réel. Il est essentiel pour nous, en tant que scientifiques des données, de prendre du recul lorsque nous examinons un résultat et de réfléchir à la façon dont il est lié au monde réel, plutôt que de simplement supposer naïvement que les données et la configuration expérimentale sont bonnes, ce qui entraîne souvent des conclusions erronées/incorrectes. Il pourrait y avoir plusieurs facteurs de causalité qui expliquent une relation qui sont indépendants de l'hypothèse d'origine: utilisation de données qui ne reflètent pas vraiment l'hypothèse que vous souhaitez tester, données biaisées (y compris les groupes surreprésentés), différences systémiques réelles entre les groupes, etc."
   ]
  },
  {
   "cell_type": "markdown",
   "id": "daa7ca34",
   "metadata": {},
   "source": []
  }
 ],
 "metadata": {
  "kernelspec": {
   "display_name": "base",
   "language": "python",
   "name": "base"
  },
  "language_info": {
   "codemirror_mode": {
    "name": "ipython",
    "version": 3
   },
   "file_extension": ".py",
   "mimetype": "text/x-python",
   "name": "python",
   "nbconvert_exporter": "python",
   "pygments_lexer": "ipython3",
   "version": "3.9.12"
  }
 },
 "nbformat": 4,
 "nbformat_minor": 5
}
